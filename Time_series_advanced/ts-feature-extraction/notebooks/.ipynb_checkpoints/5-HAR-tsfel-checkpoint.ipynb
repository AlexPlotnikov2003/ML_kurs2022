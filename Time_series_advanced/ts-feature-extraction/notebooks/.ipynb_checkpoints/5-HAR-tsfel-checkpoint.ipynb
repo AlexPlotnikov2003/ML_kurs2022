{
 "cells": [
  {
   "cell_type": "markdown",
   "metadata": {},
   "source": [
    "# Time Series Feature Extraction Library\n",
    "\n",
    "GitHub - https://github.com/fraunhoferportugal/tsfel\n",
    "\n",
    "Docs - https://tsfel.readthedocs.io/en/latest/"
   ]
  },
  {
   "cell_type": "code",
   "execution_count": 1,
   "metadata": {},
   "outputs": [],
   "source": [
    "import sys\n",
    "sys.path.append(\n",
    "    \"../../Materials/13-ts-feature-extraction/\"\n",
    ")\n",
    "import warnings\n",
    "warnings.filterwarnings(\"ignore\")"
   ]
  },
  {
   "cell_type": "code",
   "execution_count": 2,
   "metadata": {},
   "outputs": [],
   "source": [
    "import tsfel\n",
    "\n",
    "import numpy as np\n",
    "import pandas as pd\n",
    "import seaborn as sns\n",
    "import matplotlib.pyplot as plt\n",
    "\n",
    "from scipy import interpolate\n",
    "from sklearn import preprocessing\n",
    "from sklearn.feature_selection import VarianceThreshold\n",
    "from sklearn.metrics import classification_report, confusion_matrix, accuracy_score\n",
    "from sklearn.ensemble import RandomForestClassifier"
   ]
  },
  {
   "cell_type": "code",
   "execution_count": 3,
   "metadata": {},
   "outputs": [],
   "source": [
    "from src.utils import *"
   ]
  },
  {
   "cell_type": "code",
   "execution_count": 4,
   "metadata": {},
   "outputs": [],
   "source": [
    "INPUT_FOLDER_TRAIN = '../data/raw/UCI_HAR/train/InertialSignals/'\n",
    "INPUT_FOLDER_TEST = '../data/raw/UCI_HAR/test/InertialSignals/'\n",
    "\n",
    "LABELFILE_TRAIN = '../data/raw/UCI_HAR/train/y_train.txt'\n",
    "LABELFILE_TEST = '../data/raw/UCI_HAR/test/y_test.txt'\n",
    "\n",
    "train_signals, test_signals, train_labels, test_labels = read_data(\n",
    "    input_folder_train=INPUT_FOLDER_TRAIN,\n",
    "    input_folder_test=INPUT_FOLDER_TEST,\n",
    "    labelfile_train=LABELFILE_TRAIN,\n",
    "    labelfile_test=LABELFILE_TEST\n",
    ")\n",
    "\n",
    "train_signals, train_labels = randomize(train_signals, np.array(train_labels))\n",
    "test_signals, test_labels = randomize(test_signals, np.array(test_labels))"
   ]
  },
  {
   "cell_type": "code",
   "execution_count": 5,
   "metadata": {},
   "outputs": [],
   "source": [
    "# dataset sampling frequency\n",
    "fs = 100"
   ]
  },
  {
   "cell_type": "code",
   "execution_count": 6,
   "metadata": {},
   "outputs": [],
   "source": [
    "cfg_file = tsfel.get_features_by_domain('temporal')"
   ]
  },
  {
   "cell_type": "code",
   "execution_count": null,
   "metadata": {},
   "outputs": [],
   "source": [
    "train_signals.shape"
   ]
  },
  {
   "cell_type": "code",
   "execution_count": 16,
   "metadata": {},
   "outputs": [],
   "source": [
    "EXTRACT = True\n",
    "\n",
    "if EXTRACT:\n",
    "    X_train = tsfel.time_series_features_extractor(cfg_file, train_signals, fs=fs)\n",
    "    X_test = tsfel.time_series_features_extractor(cfg_file, test_signals, fs=fs)\n",
    "    X_train.to_csv('../data/processed/X_train_tsfel.csv')\n",
    "    X_test.to_csv('../data/processed/X_test_tsfel.csv')\n",
    "    Y_train.to_csv('../data/processed/Y_train_tsfel.csv')\n",
    "    Y_test.to_csv('../data/processed/Y_test_tsfel.csv')\n",
    "else:\n",
    "    X_train = pd.read_csv('../data/processed/X_train_tsfel.csv', index_col=0)\n",
    "    X_test = pd.read_csv('../data/processed/X_test_tsfel.csv', index_col=0)\n",
    "    Y_train = pd.read_csv('../data/processed/Y_train_tsfel.csv', index_col=0, header=None)\n",
    "    Y_test = pd.read_csv('../data/processed/Y_test_tsfel.csv', index_col=0, header=None)"
   ]
  },
  {
   "cell_type": "code",
   "execution_count": 17,
   "metadata": {},
   "outputs": [],
   "source": [
    "# Highly correlated features are removed\n",
    "corr_features = tsfel.correlated_features(X_train)\n",
    "X_train.drop(corr_features, axis=1, inplace=True)\n",
    "X_test.drop(corr_features, axis=1, inplace=True)\n",
    "\n",
    "# Remove low variance features\n",
    "selector = VarianceThreshold()\n",
    "X_train = selector.fit_transform(X_train)\n",
    "X_test = selector.transform(X_test)"
   ]
  },
  {
   "cell_type": "code",
   "execution_count": 21,
   "metadata": {},
   "outputs": [],
   "source": [
    "Y_train = np.array(train_labels)\n",
    "Y_test = np.array(test_labels)"
   ]
  },
  {
   "cell_type": "code",
   "execution_count": 18,
   "metadata": {},
   "outputs": [
    {
     "data": {
      "text/plain": [
       "((7352, 87), (2947, 87))"
      ]
     },
     "execution_count": 18,
     "metadata": {},
     "output_type": "execute_result"
    }
   ],
   "source": [
    "X_train.shape, X_test.shape"
   ]
  },
  {
   "cell_type": "code",
   "execution_count": 19,
   "metadata": {},
   "outputs": [
    {
     "data": {
      "text/plain": [
       "[<matplotlib.lines.Line2D at 0x7fbe53dc3d30>]"
      ]
     },
     "execution_count": 19,
     "metadata": {},
     "output_type": "execute_result"
    },
    {
     "data": {
      "image/png": "[encoded data removed]",
      "text/plain": [
       "<Figure size 432x288 with 1 Axes>"
      ]
     },
     "metadata": {
      "needs_background": "light"
     },
     "output_type": "display_data"
    }
   ],
   "source": [
    "plt.plot(X_train[0])"
   ]
  },
  {
   "cell_type": "code",
   "execution_count": 22,
   "metadata": {},
   "outputs": [
    {
     "name": "stdout",
     "output_type": "stream",
     "text": [
      "Accuracy on training set is : 1.0\n",
      "Accuracy on test set is : 0.9205972175093315\n",
      "              precision    recall  f1-score   support\n",
      "\n",
      "           1       0.93      0.95      0.94       496\n",
      "           2       0.88      0.97      0.92       471\n",
      "           3       0.94      0.81      0.87       420\n",
      "           4       0.91      0.85      0.88       491\n",
      "           5       0.87      0.93      0.90       532\n",
      "           6       1.00      1.00      1.00       537\n",
      "\n",
      "    accuracy                           0.92      2947\n",
      "   macro avg       0.92      0.92      0.92      2947\n",
      "weighted avg       0.92      0.92      0.92      2947\n",
      "\n"
     ]
    }
   ],
   "source": [
    "clf = RandomForestClassifier(n_estimators=100)\n",
    "clf.fit(X_train, Y_train)\n",
    "print(\"Accuracy on training set is : {}\".format(clf.score(X_train, Y_train)))\n",
    "print(\"Accuracy on test set is : {}\".format(clf.score(X_test, Y_test)))\n",
    "Y_test_pred = clf.predict(X_test)\n",
    "print(classification_report(Y_test, Y_test_pred))"
   ]
  },
  {
   "cell_type": "code",
   "execution_count": 23,
   "metadata": {
    "code_folding": [
     0
    ]
   },
   "outputs": [
    {
     "data": {
      "image/png": "[encoded data removed]",
      "text/plain": [
       "<Figure size 432x432 with 1 Axes>"
      ]
     },
     "metadata": {
      "needs_background": "light"
     },
     "output_type": "display_data"
    }
   ],
   "source": [
    "activities_description = {\n",
    "    1: 'walking',\n",
    "    2: 'walking upstairs',\\\n",
    "    3: 'walking downstairs',\n",
    "    4: 'sitting',\n",
    "    5: 'standing',\n",
    "    6: 'laying'\n",
    "}   \n",
    "plot_confusion(Y_test, Y_test_pred, activities_description.values())"
   ]
  }
 ],
 "metadata": {
  "kernelspec": {
   "display_name": "Python 3",
   "language": "python",
   "name": "python3"
  },
  "language_info": {
   "codemirror_mode": {
    "name": "ipython",
    "version": 3
   },
   "file_extension": ".py",
   "mimetype": "text/x-python",
   "name": "python",
   "nbconvert_exporter": "python",
   "pygments_lexer": "ipython3",
   "version": "3.8.5"
  },
  "toc": {
   "base_numbering": 1,
   "nav_menu": {},
   "number_sections": true,
   "sideBar": true,
   "skip_h1_title": false,
   "title_cell": "Table of Contents",
   "title_sidebar": "Contents",
   "toc_cell": false,
   "toc_position": {},
   "toc_section_display": true,
   "toc_window_display": false
  },
  "varInspector": {
   "cols": {
    "lenName": 16,
    "lenType": 16,
    "lenVar": 40
   },
   "kernels_config": {
    "python": {
     "delete_cmd_postfix": "",
     "delete_cmd_prefix": "del ",
     "library": "var_list.py",
     "varRefreshCmd": "print(var_dic_list())"
    },
    "r": {
     "delete_cmd_postfix": ") ",
     "delete_cmd_prefix": "rm(",
     "library": "var_list.r",
     "varRefreshCmd": "cat(var_dic_list()) "
    }
   },
   "types_to_exclude": [
    "module",
    "function",
    "builtin_function_or_method",
    "instance",
    "_Feature"
   ],
   "window_display": false
  }
 },
 "nbformat": 4,
 "nbformat_minor": 2
}
